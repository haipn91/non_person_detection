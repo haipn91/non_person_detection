{
 "cells": [
  {
   "cell_type": "code",
   "execution_count": 1,
   "id": "01c9c209-a482-4660-ade0-6c2a5e0df977",
   "metadata": {},
   "outputs": [],
   "source": [
    "import os\n",
    "os.environ[\"CUDA_VISIBLE_DEVICES\"]= \"2\"\n",
    "os.environ['TF_CPP_MIN_LOG_LEVEL'] = '3'\n",
    "import tensorflow as tf\n",
    "from tensorflow.compat.v1 import ConfigProto\n",
    "from tensorflow.compat.v1 import InteractiveSession"
   ]
  },
  {
   "cell_type": "code",
   "execution_count": 2,
   "id": "bab149c0-4abc-4752-b41e-c4729deaa0f5",
   "metadata": {},
   "outputs": [],
   "source": [
    "import json\n",
    "import pandas as pd\n",
    "from unidecode import unidecode\n",
    "from sklearn.model_selection import train_test_split\n",
    "import seaborn as sns"
   ]
  },
  {
   "cell_type": "code",
   "execution_count": 25,
   "id": "435e8f19-7008-4e51-b9d4-1fe3b9a0c1af",
   "metadata": {},
   "outputs": [],
   "source": [
    "f = open(\"uit_member.json\")\n",
    "data = json.load(f)"
   ]
  },
  {
   "cell_type": "code",
   "execution_count": 26,
   "id": "52d1261a-9f79-4adb-a2b3-2db746d479ca",
   "metadata": {},
   "outputs": [
    {
     "data": {
      "text/plain": [
       "8757"
      ]
     },
     "execution_count": 26,
     "metadata": {},
     "output_type": "execute_result"
    }
   ],
   "source": [
    "len(data)"
   ]
  },
  {
   "cell_type": "code",
   "execution_count": 36,
   "id": "b5f3377a-49b8-4d56-8015-bb1c6faea9e5",
   "metadata": {},
   "outputs": [
    {
     "name": "stdout",
     "output_type": "stream",
     "text": [
      "Done\n",
      "['nguyen thi nhu', 'le hoang', 'dinh van', 'nguyen echam', 'nguyen xuan']\n",
      "['quynh', 'quan', 'phuong', 'samuel', 'sang']\n",
      "['nguyen thi nhu quynh', 'le hoang quan', 'dinh van phuong', 'nguyen echam samuel', 'nguyen xuan sang']\n"
     ]
    }
   ],
   "source": [
    "first_name =[]\n",
    "last_name =[]\n",
    "full_name =[]\n",
    "label = []\n",
    "for i in data:\n",
    "    last_name.append(unidecode(i[\"last_name\"]).lower())\n",
    "    first_name.append(unidecode(i[\"first_name\"]).lower())\n",
    "    full_name.append(unidecode(i[\"full_name\"]).lower())\n",
    "    label.append(1)\n",
    "print(\"Done\")\n",
    "print(last_name[0:5])\n",
    "print(first_name[0:5])\n",
    "print(full_name[0:5])"
   ]
  },
  {
   "cell_type": "code",
   "execution_count": 28,
   "id": "2ef1e11d-d9dd-4a85-9c96-f1adc88fefa5",
   "metadata": {},
   "outputs": [
    {
     "data": {
      "text/plain": [
       "'\\nfull_name_aug = []\\nlabel_aug = []\\nfor i in last_name:\\n    for j in first_name:\\n        full_name_aug.append(last_name+first_name)\\n        label.append(1)\\nprint(\"Done\")\\nprint(full_name_aug[0:5])\\n'"
      ]
     },
     "execution_count": 28,
     "metadata": {},
     "output_type": "execute_result"
    }
   ],
   "source": [
    "\"\"\"\n",
    "full_name_aug = []\n",
    "label_aug = []\n",
    "for i in last_name:\n",
    "    for j in first_name:\n",
    "        full_name_aug.append(last_name+first_name)\n",
    "        label.append(1)\n",
    "print(\"Done\")\n",
    "print(full_name_aug[0:5])\n",
    "\"\"\""
   ]
  },
  {
   "cell_type": "code",
   "execution_count": 37,
   "id": "4c03a115-503b-4188-8431-5e18331a2abd",
   "metadata": {},
   "outputs": [
    {
     "data": {
      "text/html": [
       "<div>\n",
       "<style scoped>\n",
       "    .dataframe tbody tr th:only-of-type {\n",
       "        vertical-align: middle;\n",
       "    }\n",
       "\n",
       "    .dataframe tbody tr th {\n",
       "        vertical-align: top;\n",
       "    }\n",
       "\n",
       "    .dataframe thead th {\n",
       "        text-align: right;\n",
       "    }\n",
       "</style>\n",
       "<table border=\"1\" class=\"dataframe\">\n",
       "  <thead>\n",
       "    <tr style=\"text-align: right;\">\n",
       "      <th></th>\n",
       "      <th>name</th>\n",
       "      <th>label</th>\n",
       "    </tr>\n",
       "  </thead>\n",
       "  <tbody>\n",
       "    <tr>\n",
       "      <th>0</th>\n",
       "      <td>nguyen thi nhu quynh</td>\n",
       "      <td>1</td>\n",
       "    </tr>\n",
       "    <tr>\n",
       "      <th>1</th>\n",
       "      <td>le hoang quan</td>\n",
       "      <td>1</td>\n",
       "    </tr>\n",
       "    <tr>\n",
       "      <th>2</th>\n",
       "      <td>dinh van phuong</td>\n",
       "      <td>1</td>\n",
       "    </tr>\n",
       "    <tr>\n",
       "      <th>3</th>\n",
       "      <td>nguyen echam samuel</td>\n",
       "      <td>1</td>\n",
       "    </tr>\n",
       "    <tr>\n",
       "      <th>4</th>\n",
       "      <td>nguyen xuan sang</td>\n",
       "      <td>1</td>\n",
       "    </tr>\n",
       "  </tbody>\n",
       "</table>\n",
       "</div>"
      ],
      "text/plain": [
       "                   name label\n",
       "0  nguyen thi nhu quynh     1\n",
       "1         le hoang quan     1\n",
       "2       dinh van phuong     1\n",
       "3   nguyen echam samuel     1\n",
       "4      nguyen xuan sang     1"
      ]
     },
     "execution_count": 37,
     "metadata": {},
     "output_type": "execute_result"
    }
   ],
   "source": [
    "# Convert to dataframe and labeling\n",
    "df1 = pd.DataFrame([full_name, label])\n",
    "df1 = df1.transpose()\n",
    "df1.columns = [\"name\", \"label\"]\n",
    "df1.head()"
   ]
  },
  {
   "cell_type": "code",
   "execution_count": 38,
   "id": "5cf26dcf-f9ff-4f55-8927-7b0a40a7da6a",
   "metadata": {},
   "outputs": [
    {
     "data": {
      "text/html": [
       "<div>\n",
       "<style scoped>\n",
       "    .dataframe tbody tr th:only-of-type {\n",
       "        vertical-align: middle;\n",
       "    }\n",
       "\n",
       "    .dataframe tbody tr th {\n",
       "        vertical-align: top;\n",
       "    }\n",
       "\n",
       "    .dataframe thead th {\n",
       "        text-align: right;\n",
       "    }\n",
       "</style>\n",
       "<table border=\"1\" class=\"dataframe\">\n",
       "  <thead>\n",
       "    <tr style=\"text-align: right;\">\n",
       "      <th></th>\n",
       "      <th>name</th>\n",
       "      <th>label</th>\n",
       "    </tr>\n",
       "  </thead>\n",
       "  <tbody>\n",
       "    <tr>\n",
       "      <th>0</th>\n",
       "      <td>CHI NHáNH CôNG TY TNHH TậP ĐOàN ĐầU Tư HOA SEN...</td>\n",
       "      <td>0.0</td>\n",
       "    </tr>\n",
       "    <tr>\n",
       "      <th>1</th>\n",
       "      <td>Chi Nhánh Công Ty Cổ Phần Thương Mại Dịch Vụ K...</td>\n",
       "      <td>0.0</td>\n",
       "    </tr>\n",
       "    <tr>\n",
       "      <th>2</th>\n",
       "      <td>Công ty Cổ phần Công nghệ Y Sinh học và Thực p...</td>\n",
       "      <td>0.0</td>\n",
       "    </tr>\n",
       "    <tr>\n",
       "      <th>3</th>\n",
       "      <td>Hợp tác xã cơ khí Phương Nam</td>\n",
       "      <td>0.0</td>\n",
       "    </tr>\n",
       "    <tr>\n",
       "      <th>4</th>\n",
       "      <td>HTX khai thác cá biển bắc hải</td>\n",
       "      <td>0.0</td>\n",
       "    </tr>\n",
       "  </tbody>\n",
       "</table>\n",
       "</div>"
      ],
      "text/plain": [
       "                                                name  label\n",
       "0  CHI NHáNH CôNG TY TNHH TậP ĐOàN ĐầU Tư HOA SEN...    0.0\n",
       "1  Chi Nhánh Công Ty Cổ Phần Thương Mại Dịch Vụ K...    0.0\n",
       "2  Công ty Cổ phần Công nghệ Y Sinh học và Thực p...    0.0\n",
       "3                       Hợp tác xã cơ khí Phương Nam    0.0\n",
       "4                      HTX khai thác cá biển bắc hải    0.0"
      ]
     },
     "execution_count": 38,
     "metadata": {},
     "output_type": "execute_result"
    }
   ],
   "source": [
    "df2 = pd.read_excel(\"vip.xlsx\")\n",
    "df2.head()"
   ]
  },
  {
   "cell_type": "code",
   "execution_count": 39,
   "id": "783c55d1-9278-4a2d-998e-cf51c1de14b9",
   "metadata": {},
   "outputs": [
    {
     "name": "stdout",
     "output_type": "stream",
     "text": [
      "Done\n",
      "['chi nhanh cong ty tnhh tap doan dau tu hoa sen tai son dong', 'chi nhanh cong ty co phan thuong mai dich vu ket noi viet', 'cong ty co phan cong nghe y sinh hoc va thuc pham dinh duong viet nam', 'hop tac xa co khi phuong nam', 'htx khai thac ca bien bac hai']\n"
     ]
    }
   ],
   "source": [
    "full_name2 =[]\n",
    "label2 = []\n",
    "for i in df2[\"name\"]:\n",
    "    full_name2.append(unidecode(i).lower())\n",
    "    label2.append(0)\n",
    "print(\"Done\")\n",
    "print(full_name2[0:5])"
   ]
  },
  {
   "cell_type": "code",
   "execution_count": 40,
   "id": "270408e1-1083-4fef-a38f-b572a1f4d462",
   "metadata": {},
   "outputs": [
    {
     "data": {
      "text/html": [
       "<div>\n",
       "<style scoped>\n",
       "    .dataframe tbody tr th:only-of-type {\n",
       "        vertical-align: middle;\n",
       "    }\n",
       "\n",
       "    .dataframe tbody tr th {\n",
       "        vertical-align: top;\n",
       "    }\n",
       "\n",
       "    .dataframe thead th {\n",
       "        text-align: right;\n",
       "    }\n",
       "</style>\n",
       "<table border=\"1\" class=\"dataframe\">\n",
       "  <thead>\n",
       "    <tr style=\"text-align: right;\">\n",
       "      <th></th>\n",
       "      <th>name</th>\n",
       "      <th>label</th>\n",
       "    </tr>\n",
       "  </thead>\n",
       "  <tbody>\n",
       "    <tr>\n",
       "      <th>0</th>\n",
       "      <td>chi nhanh cong ty tnhh tap doan dau tu hoa sen...</td>\n",
       "      <td>0</td>\n",
       "    </tr>\n",
       "    <tr>\n",
       "      <th>1</th>\n",
       "      <td>chi nhanh cong ty co phan thuong mai dich vu k...</td>\n",
       "      <td>0</td>\n",
       "    </tr>\n",
       "    <tr>\n",
       "      <th>2</th>\n",
       "      <td>cong ty co phan cong nghe y sinh hoc va thuc p...</td>\n",
       "      <td>0</td>\n",
       "    </tr>\n",
       "    <tr>\n",
       "      <th>3</th>\n",
       "      <td>hop tac xa co khi phuong nam</td>\n",
       "      <td>0</td>\n",
       "    </tr>\n",
       "    <tr>\n",
       "      <th>4</th>\n",
       "      <td>htx khai thac ca bien bac hai</td>\n",
       "      <td>0</td>\n",
       "    </tr>\n",
       "  </tbody>\n",
       "</table>\n",
       "</div>"
      ],
      "text/plain": [
       "                                                name label\n",
       "0  chi nhanh cong ty tnhh tap doan dau tu hoa sen...     0\n",
       "1  chi nhanh cong ty co phan thuong mai dich vu k...     0\n",
       "2  cong ty co phan cong nghe y sinh hoc va thuc p...     0\n",
       "3                       hop tac xa co khi phuong nam     0\n",
       "4                      htx khai thac ca bien bac hai     0"
      ]
     },
     "execution_count": 40,
     "metadata": {},
     "output_type": "execute_result"
    }
   ],
   "source": [
    "# Convert to dataframe and labeling\n",
    "df2 = pd.DataFrame([full_name2, label2])\n",
    "df2 = df2.transpose()\n",
    "df2.columns = [\"name\", \"label\"]\n",
    "df2.head()"
   ]
  },
  {
   "cell_type": "code",
   "execution_count": 41,
   "id": "071f2f3f-3a42-4d29-a889-591a776fd589",
   "metadata": {},
   "outputs": [
    {
     "data": {
      "text/html": [
       "<div>\n",
       "<style scoped>\n",
       "    .dataframe tbody tr th:only-of-type {\n",
       "        vertical-align: middle;\n",
       "    }\n",
       "\n",
       "    .dataframe tbody tr th {\n",
       "        vertical-align: top;\n",
       "    }\n",
       "\n",
       "    .dataframe thead th {\n",
       "        text-align: right;\n",
       "    }\n",
       "</style>\n",
       "<table border=\"1\" class=\"dataframe\">\n",
       "  <thead>\n",
       "    <tr style=\"text-align: right;\">\n",
       "      <th></th>\n",
       "      <th>name</th>\n",
       "      <th>label</th>\n",
       "    </tr>\n",
       "  </thead>\n",
       "  <tbody>\n",
       "    <tr>\n",
       "      <th>8102</th>\n",
       "      <td>cty tnhh thuong mai xuat nhap khau dong xanh xanh</td>\n",
       "      <td>0</td>\n",
       "    </tr>\n",
       "    <tr>\n",
       "      <th>8103</th>\n",
       "      <td>dntn hoa dung</td>\n",
       "      <td>0</td>\n",
       "    </tr>\n",
       "    <tr>\n",
       "      <th>8104</th>\n",
       "      <td>cty tnhh thuong mai dich vu xay dung sy nguyen</td>\n",
       "      <td>0</td>\n",
       "    </tr>\n",
       "    <tr>\n",
       "      <th>8105</th>\n",
       "      <td>cty co phan san xuat thuong mai xuat nhap khau...</td>\n",
       "      <td>0</td>\n",
       "    </tr>\n",
       "    <tr>\n",
       "      <th>8106</th>\n",
       "      <td>vpls son dung</td>\n",
       "      <td>0</td>\n",
       "    </tr>\n",
       "  </tbody>\n",
       "</table>\n",
       "</div>"
      ],
      "text/plain": [
       "                                                   name label\n",
       "8102  cty tnhh thuong mai xuat nhap khau dong xanh xanh     0\n",
       "8103                                      dntn hoa dung     0\n",
       "8104     cty tnhh thuong mai dich vu xay dung sy nguyen     0\n",
       "8105  cty co phan san xuat thuong mai xuat nhap khau...     0\n",
       "8106                                      vpls son dung     0"
      ]
     },
     "execution_count": 41,
     "metadata": {},
     "output_type": "execute_result"
    }
   ],
   "source": [
    "X = pd.concat([df1, df2])\n",
    "X.tail()"
   ]
  },
  {
   "cell_type": "code",
   "execution_count": 42,
   "id": "b401619b-80aa-4c8e-a917-fe981bb0b1f3",
   "metadata": {},
   "outputs": [
    {
     "name": "stdout",
     "output_type": "stream",
     "text": [
      "X_train: (13491, 2), X_test: (3373, 2)\n"
     ]
    }
   ],
   "source": [
    "data_train, data_test = train_test_split(X, test_size=0.2, random_state=102, stratify = X[\"label\"])\n",
    "print(f'X_train: {data_train.shape}, X_test: {data_test.shape}')"
   ]
  },
  {
   "cell_type": "code",
   "execution_count": 43,
   "id": "2d37853a-298a-4de4-a171-9f4ecee5464d",
   "metadata": {},
   "outputs": [
    {
     "name": "stderr",
     "output_type": "stream",
     "text": [
      "/home/haipn/.conda/envs/hai-gpu/lib/python3.9/site-packages/seaborn/_decorators.py:36: FutureWarning: Pass the following variable as a keyword arg: x. From version 0.12, the only valid positional argument will be `data`, and passing other arguments without an explicit keyword will result in an error or misinterpretation.\n",
      "  warnings.warn(\n"
     ]
    },
    {
     "data": {
      "text/plain": [
       "1    7005\n",
       "0    6486\n",
       "Name: label, dtype: int64"
      ]
     },
     "execution_count": 43,
     "metadata": {},
     "output_type": "execute_result"
    },
    {
     "data": {
      "image/png": "[encoded data removed]",
      "text/plain": [
       "<Figure size 640x480 with 1 Axes>"
      ]
     },
     "metadata": {},
     "output_type": "display_data"
    }
   ],
   "source": [
    "# Distribution of the Target variable.\n",
    "sns.countplot(data_train[\"label\"])\n",
    "data_train[\"label\"].value_counts()"
   ]
  },
  {
   "cell_type": "code",
   "execution_count": 44,
   "id": "97dc236c-f6ee-41dd-9623-882d9ab35b3b",
   "metadata": {},
   "outputs": [
    {
     "name": "stderr",
     "output_type": "stream",
     "text": [
      "/home/haipn/.conda/envs/hai-gpu/lib/python3.9/site-packages/seaborn/_decorators.py:36: FutureWarning: Pass the following variable as a keyword arg: x. From version 0.12, the only valid positional argument will be `data`, and passing other arguments without an explicit keyword will result in an error or misinterpretation.\n",
      "  warnings.warn(\n"
     ]
    },
    {
     "data": {
      "text/plain": [
       "1    1752\n",
       "0    1621\n",
       "Name: label, dtype: int64"
      ]
     },
     "execution_count": 44,
     "metadata": {},
     "output_type": "execute_result"
    },
    {
     "data": {
      "image/png": "[encoded data removed]",
      "text/plain": [
       "<Figure size 640x480 with 1 Axes>"
      ]
     },
     "metadata": {},
     "output_type": "display_data"
    }
   ],
   "source": [
    "# Distribution of the Target variable.\n",
    "sns.countplot(data_test[\"label\"])\n",
    "data_test[\"label\"].value_counts()"
   ]
  },
  {
   "cell_type": "code",
   "execution_count": 45,
   "id": "86ade6cf-15ea-4560-8ea7-e467f79039e1",
   "metadata": {},
   "outputs": [],
   "source": [
    "data_train.to_csv(\"data_train_moredata.csv\")\n",
    "data_test.to_csv(\"data_test_moredata.csv\")"
   ]
  },
  {
   "cell_type": "code",
   "execution_count": null,
   "id": "cc3802d0-466a-45ba-a427-a55aa7f7baaf",
   "metadata": {},
   "outputs": [],
   "source": []
  }
 ],
 "metadata": {
  "kernelspec": {
   "display_name": "hai-gpu",
   "language": "python",
   "name": "hai-gpu"
  },
  "language_info": {
   "codemirror_mode": {
    "name": "ipython",
    "version": 3
   },
   "file_extension": ".py",
   "mimetype": "text/x-python",
   "name": "python",
   "nbconvert_exporter": "python",
   "pygments_lexer": "ipython3",
   "version": "3.9.15"
  }
 },
 "nbformat": 4,
 "nbformat_minor": 5
}
